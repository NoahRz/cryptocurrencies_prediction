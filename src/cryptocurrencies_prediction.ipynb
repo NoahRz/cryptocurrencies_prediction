{
 "cells": [
  {
   "cell_type": "markdown",
   "metadata": {},
   "source": [
    "api doc : https://www.coingecko.com/api/documentations/v3"
   ]
  },
  {
   "cell_type": "code",
   "execution_count": 1,
   "metadata": {},
   "outputs": [],
   "source": [
    "import numpy as np\n",
    "from requests import Request, Session\n",
    "from requests.exceptions import ConnectionError, Timeout, TooManyRedirects\n",
    "import json\n",
    "import time\n",
    "import datetime\n",
    "import pandas as pd\n",
    "from pathlib import Path\n",
    "import os"
   ]
  },
  {
   "cell_type": "markdown",
   "metadata": {},
   "source": [
    "url = 'https://api.coingecko.com/api/v3/coins/bitcoin/history'\n",
    "parameters = {\n",
    "  'date':'12-11-2020'\n",
    "}\n",
    "\n",
    "session = Session()"
   ]
  },
  {
   "cell_type": "markdown",
   "metadata": {},
   "source": [
    "url = 'https://api.coingecko.com/api/v3/coins/bitcoin/history'\n",
    "parameters = {\n",
    "  'date':'12-11-2020',\n",
    "  'localization' : False\n",
    "}\n",
    "\n",
    "session = Session()\n"
   ]
  },
  {
   "cell_type": "markdown",
   "metadata": {},
   "source": [
    "https://api.coingecko.com/api/v3/coins/bitcoin/market_chart/range?vs_currency=usd&from=1604188800&to=1605283978\n",
    "endpoint pour une fourchette de date"
   ]
  },
  {
   "cell_type": "code",
   "execution_count": 2,
   "metadata": {},
   "outputs": [
    {
     "name": "stdout",
     "output_type": "stream",
     "text": [
      "1606172400 1606258800\n"
     ]
    }
   ],
   "source": [
    "start_date = \"24/11/2020\"\n",
    "end_date = \"25/11/2020\"\n",
    "start_timestamp = int(time.mktime(datetime.datetime.strptime(start_date, \"%d/%m/%Y\").timetuple()))\n",
    "end_timestamp  = int(time.mktime(datetime.datetime.strptime(end_date, \"%d/%m/%Y\").timetuple()))\n",
    "\n",
    "print(start_timestamp, end_timestamp)"
   ]
  },
  {
   "cell_type": "code",
   "execution_count": 3,
   "metadata": {},
   "outputs": [],
   "source": [
    "currency=\"bitcoin\"\n",
    "url = 'https://api.coingecko.com/api/v3/coins/'+currency+'/market_chart/range?'\n",
    "parameters = {\n",
    "    'vs_currency':'usd',\n",
    "    'from':start_timestamp,\n",
    "    'to':end_timestamp\n",
    "}\n",
    "\n",
    "session = Session()\n",
    "\n",
    "try:\n",
    "    response = session.get(url, params=parameters)\n",
    "    data = json.loads(response.text)\n",
    "    mypath = os.path.abspath('')\n",
    "    path_to_save = str(mypath) + '/../data/'\n",
    "    df = pd.DataFrame(data[\"prices\"])\n",
    "    file_name = \"data.csv\"\n",
    "    df.to_csv(os.path.join(path_to_save, file_name))\n",
    "except (ConnectionError, Timeout, TooManyRedirects) as e:\n",
    "  print(e)"
   ]
  },
  {
   "cell_type": "code",
   "execution_count": 4,
   "metadata": {},
   "outputs": [
    {
     "data": {
      "text/html": [
       "<div>\n",
       "<style scoped>\n",
       "    .dataframe tbody tr th:only-of-type {\n",
       "        vertical-align: middle;\n",
       "    }\n",
       "\n",
       "    .dataframe tbody tr th {\n",
       "        vertical-align: top;\n",
       "    }\n",
       "\n",
       "    .dataframe thead th {\n",
       "        text-align: right;\n",
       "    }\n",
       "</style>\n",
       "<table border=\"1\" class=\"dataframe\">\n",
       "  <thead>\n",
       "    <tr style=\"text-align: right;\">\n",
       "      <th></th>\n",
       "      <th>0</th>\n",
       "      <th>1</th>\n",
       "    </tr>\n",
       "  </thead>\n",
       "  <tbody>\n",
       "    <tr>\n",
       "      <th>0</th>\n",
       "      <td>1606173556811</td>\n",
       "      <td>18316.102066</td>\n",
       "    </tr>\n",
       "    <tr>\n",
       "      <th>1</th>\n",
       "      <td>1606177044644</td>\n",
       "      <td>18273.492427</td>\n",
       "    </tr>\n",
       "    <tr>\n",
       "      <th>2</th>\n",
       "      <td>1606181004181</td>\n",
       "      <td>18450.612950</td>\n",
       "    </tr>\n",
       "    <tr>\n",
       "      <th>3</th>\n",
       "      <td>1606184361569</td>\n",
       "      <td>18390.498946</td>\n",
       "    </tr>\n",
       "    <tr>\n",
       "      <th>4</th>\n",
       "      <td>1606187723077</td>\n",
       "      <td>18332.293717</td>\n",
       "    </tr>\n",
       "    <tr>\n",
       "      <th>5</th>\n",
       "      <td>1606191561440</td>\n",
       "      <td>18349.033019</td>\n",
       "    </tr>\n",
       "    <tr>\n",
       "      <th>6</th>\n",
       "      <td>1606194969792</td>\n",
       "      <td>18374.112234</td>\n",
       "    </tr>\n",
       "    <tr>\n",
       "      <th>7</th>\n",
       "      <td>1606198029568</td>\n",
       "      <td>18303.951253</td>\n",
       "    </tr>\n",
       "    <tr>\n",
       "      <th>8</th>\n",
       "      <td>1606201977184</td>\n",
       "      <td>18407.624007</td>\n",
       "    </tr>\n",
       "    <tr>\n",
       "      <th>9</th>\n",
       "      <td>1606205144691</td>\n",
       "      <td>18369.329819</td>\n",
       "    </tr>\n",
       "    <tr>\n",
       "      <th>10</th>\n",
       "      <td>1606209291978</td>\n",
       "      <td>18646.410088</td>\n",
       "    </tr>\n",
       "    <tr>\n",
       "      <th>11</th>\n",
       "      <td>1606213246424</td>\n",
       "      <td>18870.302731</td>\n",
       "    </tr>\n",
       "    <tr>\n",
       "      <th>12</th>\n",
       "      <td>1606216396325</td>\n",
       "      <td>18847.524978</td>\n",
       "    </tr>\n",
       "    <tr>\n",
       "      <th>13</th>\n",
       "      <td>1606220202069</td>\n",
       "      <td>18955.419664</td>\n",
       "    </tr>\n",
       "    <tr>\n",
       "      <th>14</th>\n",
       "      <td>1606223750298</td>\n",
       "      <td>19205.255879</td>\n",
       "    </tr>\n",
       "    <tr>\n",
       "      <th>15</th>\n",
       "      <td>1606226691681</td>\n",
       "      <td>19143.582168</td>\n",
       "    </tr>\n",
       "    <tr>\n",
       "      <th>16</th>\n",
       "      <td>1606230773573</td>\n",
       "      <td>19305.513820</td>\n",
       "    </tr>\n",
       "    <tr>\n",
       "      <th>17</th>\n",
       "      <td>1606234417911</td>\n",
       "      <td>19315.000212</td>\n",
       "    </tr>\n",
       "    <tr>\n",
       "      <th>18</th>\n",
       "      <td>1606237715845</td>\n",
       "      <td>19257.225817</td>\n",
       "    </tr>\n",
       "    <tr>\n",
       "      <th>19</th>\n",
       "      <td>1606241189810</td>\n",
       "      <td>19135.703235</td>\n",
       "    </tr>\n",
       "    <tr>\n",
       "      <th>20</th>\n",
       "      <td>1606245256931</td>\n",
       "      <td>19192.871932</td>\n",
       "    </tr>\n",
       "    <tr>\n",
       "      <th>21</th>\n",
       "      <td>1606249215614</td>\n",
       "      <td>19139.487099</td>\n",
       "    </tr>\n",
       "    <tr>\n",
       "      <th>22</th>\n",
       "      <td>1606252332722</td>\n",
       "      <td>19017.571635</td>\n",
       "    </tr>\n",
       "    <tr>\n",
       "      <th>23</th>\n",
       "      <td>1606255553315</td>\n",
       "      <td>18895.563974</td>\n",
       "    </tr>\n",
       "  </tbody>\n",
       "</table>\n",
       "</div>"
      ],
      "text/plain": [
       "                0             1\n",
       "0   1606173556811  18316.102066\n",
       "1   1606177044644  18273.492427\n",
       "2   1606181004181  18450.612950\n",
       "3   1606184361569  18390.498946\n",
       "4   1606187723077  18332.293717\n",
       "5   1606191561440  18349.033019\n",
       "6   1606194969792  18374.112234\n",
       "7   1606198029568  18303.951253\n",
       "8   1606201977184  18407.624007\n",
       "9   1606205144691  18369.329819\n",
       "10  1606209291978  18646.410088\n",
       "11  1606213246424  18870.302731\n",
       "12  1606216396325  18847.524978\n",
       "13  1606220202069  18955.419664\n",
       "14  1606223750298  19205.255879\n",
       "15  1606226691681  19143.582168\n",
       "16  1606230773573  19305.513820\n",
       "17  1606234417911  19315.000212\n",
       "18  1606237715845  19257.225817\n",
       "19  1606241189810  19135.703235\n",
       "20  1606245256931  19192.871932\n",
       "21  1606249215614  19139.487099\n",
       "22  1606252332722  19017.571635\n",
       "23  1606255553315  18895.563974"
      ]
     },
     "execution_count": 4,
     "metadata": {},
     "output_type": "execute_result"
    }
   ],
   "source": [
    "csv_file_name = '../data/data.csv' #please put the name of the csv file you want to read\n",
    "data = pd.read_csv(csv_file_name, index_col=[0],sep=',', encoding=\"utf-8\")\n",
    "data.iloc[:49] # we display the first 50 rows"
   ]
  },
  {
   "cell_type": "code",
   "execution_count": 5,
   "metadata": {},
   "outputs": [],
   "source": [
    "data.columns = ['time', 'price']"
   ]
  },
  {
   "cell_type": "code",
   "execution_count": 6,
   "metadata": {},
   "outputs": [
    {
     "data": {
      "text/html": [
       "<div>\n",
       "<style scoped>\n",
       "    .dataframe tbody tr th:only-of-type {\n",
       "        vertical-align: middle;\n",
       "    }\n",
       "\n",
       "    .dataframe tbody tr th {\n",
       "        vertical-align: top;\n",
       "    }\n",
       "\n",
       "    .dataframe thead th {\n",
       "        text-align: right;\n",
       "    }\n",
       "</style>\n",
       "<table border=\"1\" class=\"dataframe\">\n",
       "  <thead>\n",
       "    <tr style=\"text-align: right;\">\n",
       "      <th></th>\n",
       "      <th>time</th>\n",
       "      <th>price</th>\n",
       "    </tr>\n",
       "  </thead>\n",
       "  <tbody>\n",
       "    <tr>\n",
       "      <th>0</th>\n",
       "      <td>1606173556811</td>\n",
       "      <td>18316.102066</td>\n",
       "    </tr>\n",
       "    <tr>\n",
       "      <th>1</th>\n",
       "      <td>1606177044644</td>\n",
       "      <td>18273.492427</td>\n",
       "    </tr>\n",
       "    <tr>\n",
       "      <th>2</th>\n",
       "      <td>1606181004181</td>\n",
       "      <td>18450.612950</td>\n",
       "    </tr>\n",
       "    <tr>\n",
       "      <th>3</th>\n",
       "      <td>1606184361569</td>\n",
       "      <td>18390.498946</td>\n",
       "    </tr>\n",
       "    <tr>\n",
       "      <th>4</th>\n",
       "      <td>1606187723077</td>\n",
       "      <td>18332.293717</td>\n",
       "    </tr>\n",
       "    <tr>\n",
       "      <th>5</th>\n",
       "      <td>1606191561440</td>\n",
       "      <td>18349.033019</td>\n",
       "    </tr>\n",
       "    <tr>\n",
       "      <th>6</th>\n",
       "      <td>1606194969792</td>\n",
       "      <td>18374.112234</td>\n",
       "    </tr>\n",
       "    <tr>\n",
       "      <th>7</th>\n",
       "      <td>1606198029568</td>\n",
       "      <td>18303.951253</td>\n",
       "    </tr>\n",
       "    <tr>\n",
       "      <th>8</th>\n",
       "      <td>1606201977184</td>\n",
       "      <td>18407.624007</td>\n",
       "    </tr>\n",
       "    <tr>\n",
       "      <th>9</th>\n",
       "      <td>1606205144691</td>\n",
       "      <td>18369.329819</td>\n",
       "    </tr>\n",
       "    <tr>\n",
       "      <th>10</th>\n",
       "      <td>1606209291978</td>\n",
       "      <td>18646.410088</td>\n",
       "    </tr>\n",
       "    <tr>\n",
       "      <th>11</th>\n",
       "      <td>1606213246424</td>\n",
       "      <td>18870.302731</td>\n",
       "    </tr>\n",
       "    <tr>\n",
       "      <th>12</th>\n",
       "      <td>1606216396325</td>\n",
       "      <td>18847.524978</td>\n",
       "    </tr>\n",
       "    <tr>\n",
       "      <th>13</th>\n",
       "      <td>1606220202069</td>\n",
       "      <td>18955.419664</td>\n",
       "    </tr>\n",
       "    <tr>\n",
       "      <th>14</th>\n",
       "      <td>1606223750298</td>\n",
       "      <td>19205.255879</td>\n",
       "    </tr>\n",
       "    <tr>\n",
       "      <th>15</th>\n",
       "      <td>1606226691681</td>\n",
       "      <td>19143.582168</td>\n",
       "    </tr>\n",
       "    <tr>\n",
       "      <th>16</th>\n",
       "      <td>1606230773573</td>\n",
       "      <td>19305.513820</td>\n",
       "    </tr>\n",
       "    <tr>\n",
       "      <th>17</th>\n",
       "      <td>1606234417911</td>\n",
       "      <td>19315.000212</td>\n",
       "    </tr>\n",
       "    <tr>\n",
       "      <th>18</th>\n",
       "      <td>1606237715845</td>\n",
       "      <td>19257.225817</td>\n",
       "    </tr>\n",
       "    <tr>\n",
       "      <th>19</th>\n",
       "      <td>1606241189810</td>\n",
       "      <td>19135.703235</td>\n",
       "    </tr>\n",
       "    <tr>\n",
       "      <th>20</th>\n",
       "      <td>1606245256931</td>\n",
       "      <td>19192.871932</td>\n",
       "    </tr>\n",
       "    <tr>\n",
       "      <th>21</th>\n",
       "      <td>1606249215614</td>\n",
       "      <td>19139.487099</td>\n",
       "    </tr>\n",
       "    <tr>\n",
       "      <th>22</th>\n",
       "      <td>1606252332722</td>\n",
       "      <td>19017.571635</td>\n",
       "    </tr>\n",
       "    <tr>\n",
       "      <th>23</th>\n",
       "      <td>1606255553315</td>\n",
       "      <td>18895.563974</td>\n",
       "    </tr>\n",
       "  </tbody>\n",
       "</table>\n",
       "</div>"
      ],
      "text/plain": [
       "             time         price\n",
       "0   1606173556811  18316.102066\n",
       "1   1606177044644  18273.492427\n",
       "2   1606181004181  18450.612950\n",
       "3   1606184361569  18390.498946\n",
       "4   1606187723077  18332.293717\n",
       "5   1606191561440  18349.033019\n",
       "6   1606194969792  18374.112234\n",
       "7   1606198029568  18303.951253\n",
       "8   1606201977184  18407.624007\n",
       "9   1606205144691  18369.329819\n",
       "10  1606209291978  18646.410088\n",
       "11  1606213246424  18870.302731\n",
       "12  1606216396325  18847.524978\n",
       "13  1606220202069  18955.419664\n",
       "14  1606223750298  19205.255879\n",
       "15  1606226691681  19143.582168\n",
       "16  1606230773573  19305.513820\n",
       "17  1606234417911  19315.000212\n",
       "18  1606237715845  19257.225817\n",
       "19  1606241189810  19135.703235\n",
       "20  1606245256931  19192.871932\n",
       "21  1606249215614  19139.487099\n",
       "22  1606252332722  19017.571635\n",
       "23  1606255553315  18895.563974"
      ]
     },
     "execution_count": 6,
     "metadata": {},
     "output_type": "execute_result"
    }
   ],
   "source": [
    "data"
   ]
  },
  {
   "cell_type": "code",
   "execution_count": 21,
   "metadata": {},
   "outputs": [
    {
     "ename": "AttributeError",
     "evalue": "'str' object has no attribute 'substring'",
     "output_type": "error",
     "traceback": [
      "\u001b[0;31m---------------------------------------------------------------------------\u001b[0m",
      "\u001b[0;31mAttributeError\u001b[0m                            Traceback (most recent call last)",
      "\u001b[0;32m<ipython-input-21-62c06457e51c>\u001b[0m in \u001b[0;36m<module>\u001b[0;34m\u001b[0m\n\u001b[1;32m      1\u001b[0m \u001b[0mtimestamp\u001b[0m \u001b[0;34m=\u001b[0m \u001b[0;34m\"1648753215\"\u001b[0m\u001b[0;34m\u001b[0m\u001b[0;34m\u001b[0m\u001b[0m\n\u001b[0;32m----> 2\u001b[0;31m \u001b[0mnewtimestamp\u001b[0m \u001b[0;34m=\u001b[0m \u001b[0mtimestamp\u001b[0m\u001b[0;34m.\u001b[0m\u001b[0msubstring\u001b[0m\u001b[0;34m(\u001b[0m\u001b[0;36m0\u001b[0m\u001b[0;34m,\u001b[0m \u001b[0mstr\u001b[0m\u001b[0;34m.\u001b[0m\u001b[0mlength\u001b[0m \u001b[0;34m-\u001b[0m \u001b[0;36m3\u001b[0m\u001b[0;34m)\u001b[0m\u001b[0;34m\u001b[0m\u001b[0;34m\u001b[0m\u001b[0m\n\u001b[0m",
      "\u001b[0;31mAttributeError\u001b[0m: 'str' object has no attribute 'substring'"
     ]
    }
   ],
   "source": [
    "timestamp = \"1648753215\"\n",
    "newtimestamp = timestamp.substring(0, str.length - 3)"
   ]
  },
  {
   "cell_type": "code",
   "execution_count": 23,
   "metadata": {},
   "outputs": [
    {
     "data": {
      "text/plain": [
       "'0     1606173556811\\n1     1606177044644\\n2     1606181004181\\n3     1606184361569\\n4     1606187723077\\n5     1606191561440\\n6     1606194969792\\n7     1606198029568\\n8     1606201977184\\n9     1606205144691\\n10    1606209291978\\n11    1606213246424\\n12    1606216396325\\n13    1606220202069\\n14    1606223750298\\n15    1606226691681\\n16    1606230773573\\n17    1606234417911\\n18    1606237715845\\n19    1606241189810\\n20    1606245256931\\n21    1606249215614\\n22    1606252332722\\n23    1606255553315\\nName: time, dtype: in'"
      ]
     },
     "execution_count": 23,
     "metadata": {},
     "output_type": "execute_result"
    }
   ],
   "source": [
    "data['time'][0]"
   ]
  },
  {
   "cell_type": "code",
   "execution_count": 18,
   "metadata": {
    "scrolled": true
   },
   "outputs": [
    {
     "ename": "ValueError",
     "evalue": "invalid literal for int() with base 10: '0     1606173556811\\n1     1606177044644\\n2     1606181004181\\n3     1606184361569\\n4     1606187723077\\n5     1606191561440\\n6     1606194969792\\n7     1606198029568\\n8     1606201977184\\n9     1606",
     "output_type": "error",
     "traceback": [
      "\u001b[0;31m---------------------------------------------------------------------------\u001b[0m",
      "\u001b[0;31mValueError\u001b[0m                                Traceback (most recent call last)",
      "\u001b[0;32m<ipython-input-18-9235ebeeec83>\u001b[0m in \u001b[0;36m<module>\u001b[0;34m\u001b[0m\n\u001b[0;32m----> 1\u001b[0;31m \u001b[0mint\u001b[0m\u001b[0;34m(\u001b[0m\u001b[0mdata\u001b[0m\u001b[0;34m[\u001b[0m\u001b[0;34m'time'\u001b[0m\u001b[0;34m]\u001b[0m\u001b[0;34m[\u001b[0m\u001b[0;36m0\u001b[0m\u001b[0;34m]\u001b[0m\u001b[0;34m)\u001b[0m\u001b[0;34m.\u001b[0m\u001b[0msubstring\u001b[0m\u001b[0;34m(\u001b[0m\u001b[0;36m0\u001b[0m\u001b[0;34m,\u001b[0m \u001b[0mstr\u001b[0m\u001b[0;34m.\u001b[0m\u001b[0mlength\u001b[0m \u001b[0;34m-\u001b[0m \u001b[0;36m3\u001b[0m\u001b[0;34m)\u001b[0m\u001b[0;34m\u001b[0m\u001b[0;34m\u001b[0m\u001b[0m\n\u001b[0m",
      "\u001b[0;31mValueError\u001b[0m: invalid literal for int() with base 10: '0     1606173556811\\n1     1606177044644\\n2     1606181004181\\n3     1606184361569\\n4     1606187723077\\n5     1606191561440\\n6     1606194969792\\n7     1606198029568\\n8     1606201977184\\n9     1606"
     ]
    }
   ],
   "source": [
    "int(data['time'][0]).substring(0, str.length - 3)"
   ]
  },
  {
   "cell_type": "code",
   "execution_count": 16,
   "metadata": {
    "scrolled": true
   },
   "outputs": [
    {
     "data": {
      "text/plain": [
       "'0     0     1606173556811\\\\n1     1606177044644\\\\n2   ...\\n1     0     1606173556811\\\\n1     1606177044644\\\\n2   ...\\n2     0     1606173556811\\\\n1     1606177044644\\\\n2   ...\\n3     0     1606173556811\\\\n1     1606177044644\\\\n2   ...\\n4     0     1606173556811\\\\n1     1606177044644\\\\n2   ...\\n5     0     1606173556811\\\\n1     1606177044644\\\\n2   ...\\n6     0     1606173556811\\\\n1     1606177044644\\\\n2   ...\\n7     0     1606173556811\\\\n1     1606177044644\\\\n2   ...\\n8     0     1606173556811\\\\n1     1606177044644\\\\n2   ...\\n9     0     1606173556811\\\\n1     1606177044644\\\\n2   ...\\n10    0     1606173556811\\\\n1     1606177044644\\\\n2   ...\\n11    0     1606173556811\\\\n1     1606177044644\\\\n2   ...\\n12    0     1606173556811\\\\n1     1606177044644\\\\n2   ...\\n13    0     1606173556811\\\\n1     1606177044644\\\\n2   ...\\n14    0     1606173556811\\\\n1     1606177044644\\\\n2   ...\\n15    0     1606173556811\\\\n1     1606177044644\\\\n2   ...\\n16    0     1606173556811\\\\n1     1606177044644\\\\n2   ...\\n17    0     1606173556811\\\\n1     1606177044644\\\\n2   ...\\n18    0     1606173556811\\\\n1     1606177044644\\\\n2   ...\\n19    0     1606173556811\\\\n1     1606177044644\\\\n2   ...\\n20    0     1606173556811\\\\n1     1606177044644\\\\n2   ...\\n21    0     1606173556811\\\\n1     1606177044644\\\\n2   ...\\n22    0     1606173556811\\\\n1     1606177044644\\\\n2   ...\\n23    0     1606173556811\\\\n1     1606177044644\\\\n2   ...\\nName: time, dtype: object'"
      ]
     },
     "execution_count": 16,
     "metadata": {},
     "output_type": "execute_result"
    }
   ],
   "source": [
    "str(data[\"time\"])"
   ]
  },
  {
   "cell_type": "code",
   "execution_count": 15,
   "metadata": {},
   "outputs": [],
   "source": [
    "data[\"time\"] = str(data[\"time\"])[:len(str(data[\"time\"]))-3]"
   ]
  },
  {
   "cell_type": "code",
   "execution_count": 40,
   "metadata": {},
   "outputs": [
    {
     "data": {
      "text/html": [
       "<div>\n",
       "<style scoped>\n",
       "    .dataframe tbody tr th:only-of-type {\n",
       "        vertical-align: middle;\n",
       "    }\n",
       "\n",
       "    .dataframe tbody tr th {\n",
       "        vertical-align: top;\n",
       "    }\n",
       "\n",
       "    .dataframe thead th {\n",
       "        text-align: right;\n",
       "    }\n",
       "</style>\n",
       "<table border=\"1\" class=\"dataframe\">\n",
       "  <thead>\n",
       "    <tr style=\"text-align: right;\">\n",
       "      <th></th>\n",
       "      <th>time</th>\n",
       "      <th>price</th>\n",
       "    </tr>\n",
       "  </thead>\n",
       "  <tbody>\n",
       "    <tr>\n",
       "      <th>0</th>\n",
       "      <td>1970-01-01 00:26:46.173556811</td>\n",
       "      <td>18316.102066</td>\n",
       "    </tr>\n",
       "    <tr>\n",
       "      <th>1</th>\n",
       "      <td>1970-01-01 00:26:46.177044644</td>\n",
       "      <td>18273.492427</td>\n",
       "    </tr>\n",
       "    <tr>\n",
       "      <th>2</th>\n",
       "      <td>1970-01-01 00:26:46.181004181</td>\n",
       "      <td>18450.612950</td>\n",
       "    </tr>\n",
       "    <tr>\n",
       "      <th>3</th>\n",
       "      <td>1970-01-01 00:26:46.184361569</td>\n",
       "      <td>18390.498946</td>\n",
       "    </tr>\n",
       "    <tr>\n",
       "      <th>4</th>\n",
       "      <td>1970-01-01 00:26:46.187723077</td>\n",
       "      <td>18332.293717</td>\n",
       "    </tr>\n",
       "    <tr>\n",
       "      <th>5</th>\n",
       "      <td>1970-01-01 00:26:46.191561440</td>\n",
       "      <td>18349.033019</td>\n",
       "    </tr>\n",
       "    <tr>\n",
       "      <th>6</th>\n",
       "      <td>1970-01-01 00:26:46.194969792</td>\n",
       "      <td>18374.112234</td>\n",
       "    </tr>\n",
       "    <tr>\n",
       "      <th>7</th>\n",
       "      <td>1970-01-01 00:26:46.198029568</td>\n",
       "      <td>18303.951253</td>\n",
       "    </tr>\n",
       "    <tr>\n",
       "      <th>8</th>\n",
       "      <td>1970-01-01 00:26:46.201977184</td>\n",
       "      <td>18407.624007</td>\n",
       "    </tr>\n",
       "    <tr>\n",
       "      <th>9</th>\n",
       "      <td>1970-01-01 00:26:46.205144691</td>\n",
       "      <td>18369.329819</td>\n",
       "    </tr>\n",
       "    <tr>\n",
       "      <th>10</th>\n",
       "      <td>1970-01-01 00:26:46.209291978</td>\n",
       "      <td>18646.410088</td>\n",
       "    </tr>\n",
       "    <tr>\n",
       "      <th>11</th>\n",
       "      <td>1970-01-01 00:26:46.213246424</td>\n",
       "      <td>18870.302731</td>\n",
       "    </tr>\n",
       "    <tr>\n",
       "      <th>12</th>\n",
       "      <td>1970-01-01 00:26:46.216396325</td>\n",
       "      <td>18847.524978</td>\n",
       "    </tr>\n",
       "    <tr>\n",
       "      <th>13</th>\n",
       "      <td>1970-01-01 00:26:46.220202069</td>\n",
       "      <td>18955.419664</td>\n",
       "    </tr>\n",
       "    <tr>\n",
       "      <th>14</th>\n",
       "      <td>1970-01-01 00:26:46.223750298</td>\n",
       "      <td>19205.255879</td>\n",
       "    </tr>\n",
       "    <tr>\n",
       "      <th>15</th>\n",
       "      <td>1970-01-01 00:26:46.226691681</td>\n",
       "      <td>19143.582168</td>\n",
       "    </tr>\n",
       "    <tr>\n",
       "      <th>16</th>\n",
       "      <td>1970-01-01 00:26:46.230773573</td>\n",
       "      <td>19305.513820</td>\n",
       "    </tr>\n",
       "    <tr>\n",
       "      <th>17</th>\n",
       "      <td>1970-01-01 00:26:46.234417911</td>\n",
       "      <td>19315.000212</td>\n",
       "    </tr>\n",
       "    <tr>\n",
       "      <th>18</th>\n",
       "      <td>1970-01-01 00:26:46.237715845</td>\n",
       "      <td>19257.225817</td>\n",
       "    </tr>\n",
       "    <tr>\n",
       "      <th>19</th>\n",
       "      <td>1970-01-01 00:26:46.241189810</td>\n",
       "      <td>19135.703235</td>\n",
       "    </tr>\n",
       "    <tr>\n",
       "      <th>20</th>\n",
       "      <td>1970-01-01 00:26:46.245256931</td>\n",
       "      <td>19192.871932</td>\n",
       "    </tr>\n",
       "    <tr>\n",
       "      <th>21</th>\n",
       "      <td>1970-01-01 00:26:46.249215614</td>\n",
       "      <td>19139.487099</td>\n",
       "    </tr>\n",
       "    <tr>\n",
       "      <th>22</th>\n",
       "      <td>1970-01-01 00:26:46.252332722</td>\n",
       "      <td>19017.571635</td>\n",
       "    </tr>\n",
       "    <tr>\n",
       "      <th>23</th>\n",
       "      <td>1970-01-01 00:26:46.255553315</td>\n",
       "      <td>18895.563974</td>\n",
       "    </tr>\n",
       "  </tbody>\n",
       "</table>\n",
       "</div>"
      ],
      "text/plain": [
       "                            time         price\n",
       "0  1970-01-01 00:26:46.173556811  18316.102066\n",
       "1  1970-01-01 00:26:46.177044644  18273.492427\n",
       "2  1970-01-01 00:26:46.181004181  18450.612950\n",
       "3  1970-01-01 00:26:46.184361569  18390.498946\n",
       "4  1970-01-01 00:26:46.187723077  18332.293717\n",
       "5  1970-01-01 00:26:46.191561440  18349.033019\n",
       "6  1970-01-01 00:26:46.194969792  18374.112234\n",
       "7  1970-01-01 00:26:46.198029568  18303.951253\n",
       "8  1970-01-01 00:26:46.201977184  18407.624007\n",
       "9  1970-01-01 00:26:46.205144691  18369.329819\n",
       "10 1970-01-01 00:26:46.209291978  18646.410088\n",
       "11 1970-01-01 00:26:46.213246424  18870.302731\n",
       "12 1970-01-01 00:26:46.216396325  18847.524978\n",
       "13 1970-01-01 00:26:46.220202069  18955.419664\n",
       "14 1970-01-01 00:26:46.223750298  19205.255879\n",
       "15 1970-01-01 00:26:46.226691681  19143.582168\n",
       "16 1970-01-01 00:26:46.230773573  19305.513820\n",
       "17 1970-01-01 00:26:46.234417911  19315.000212\n",
       "18 1970-01-01 00:26:46.237715845  19257.225817\n",
       "19 1970-01-01 00:26:46.241189810  19135.703235\n",
       "20 1970-01-01 00:26:46.245256931  19192.871932\n",
       "21 1970-01-01 00:26:46.249215614  19139.487099\n",
       "22 1970-01-01 00:26:46.252332722  19017.571635\n",
       "23 1970-01-01 00:26:46.255553315  18895.563974"
      ]
     },
     "execution_count": 40,
     "metadata": {},
     "output_type": "execute_result"
    }
   ],
   "source": [
    "data"
   ]
  },
  {
   "cell_type": "code",
   "execution_count": 21,
   "metadata": {},
   "outputs": [
    {
     "data": {
      "text/plain": [
       "Timestamp('1970-01-01 00:26:46.173556811')"
      ]
     },
     "execution_count": 21,
     "metadata": {},
     "output_type": "execute_result"
    }
   ],
   "source": [
    "pd.to_datetime(1606173556811)"
   ]
  },
  {
   "cell_type": "code",
   "execution_count": 19,
   "metadata": {},
   "outputs": [
    {
     "data": {
      "text/plain": [
       "Timestamp('2017-03-22 15:16:45')"
      ]
     },
     "execution_count": 19,
     "metadata": {},
     "output_type": "execute_result"
    }
   ],
   "source": [
    "pd.to_datetime(1490195805, unit='s')"
   ]
  },
  {
   "cell_type": "code",
   "execution_count": 18,
   "metadata": {},
   "outputs": [
    {
     "data": {
      "text/plain": [
       "datetime.datetime(2018, 12, 25, 10, 27, 53)"
      ]
     },
     "execution_count": 18,
     "metadata": {},
     "output_type": "execute_result"
    }
   ],
   "source": [
    "timestamp = 1545730073\n",
    "datetime.fromtimestamp(timestamp)"
   ]
  },
  {
   "cell_type": "code",
   "execution_count": 22,
   "metadata": {},
   "outputs": [
    {
     "ename": "ValueError",
     "evalue": "year 52867 is out of range",
     "output_type": "error",
     "traceback": [
      "\u001b[0;31m---------------------------------------------------------------------------\u001b[0m",
      "\u001b[0;31mValueError\u001b[0m                                Traceback (most recent call last)",
      "\u001b[0;32m<ipython-input-22-b798654c3aea>\u001b[0m in \u001b[0;36m<module>\u001b[0;34m\u001b[0m\n\u001b[0;32m----> 1\u001b[0;31m \u001b[0mdatetime\u001b[0m\u001b[0;34m.\u001b[0m\u001b[0mfromtimestamp\u001b[0m\u001b[0;34m(\u001b[0m\u001b[0;36m1606173556811\u001b[0m\u001b[0;34m)\u001b[0m\u001b[0;34m\u001b[0m\u001b[0;34m\u001b[0m\u001b[0m\n\u001b[0m",
      "\u001b[0;31mValueError\u001b[0m: year 52867 is out of range"
     ]
    }
   ],
   "source": [
    "datetime.fromtimestamp(1606173556811)"
   ]
  },
  {
   "cell_type": "code",
   "execution_count": 41,
   "metadata": {},
   "outputs": [
    {
     "name": "stderr",
     "output_type": "stream",
     "text": [
      "<>:1: SyntaxWarning: 'int' object is not subscriptable; perhaps you missed a comma?\n",
      "<>:1: SyntaxWarning: 'int' object is not subscriptable; perhaps you missed a comma?\n",
      "<ipython-input-41-d826b88b4a0b>:1: SyntaxWarning: 'int' object is not subscriptable; perhaps you missed a comma?\n",
      "  1606173556811[1:2]\n"
     ]
    },
    {
     "ename": "TypeError",
     "evalue": "'int' object is not subscriptable",
     "output_type": "error",
     "traceback": [
      "\u001b[0;31m---------------------------------------------------------------------------\u001b[0m",
      "\u001b[0;31mTypeError\u001b[0m                                 Traceback (most recent call last)",
      "\u001b[0;32m<ipython-input-41-d826b88b4a0b>\u001b[0m in \u001b[0;36m<module>\u001b[0;34m\u001b[0m\n\u001b[0;32m----> 1\u001b[0;31m \u001b[0;36m1606173556811\u001b[0m\u001b[0;34m[\u001b[0m\u001b[0;36m1\u001b[0m\u001b[0;34m:\u001b[0m\u001b[0;36m2\u001b[0m\u001b[0;34m]\u001b[0m\u001b[0;34m\u001b[0m\u001b[0;34m\u001b[0m\u001b[0m\n\u001b[0m",
      "\u001b[0;31mTypeError\u001b[0m: 'int' object is not subscriptable"
     ]
    }
   ],
   "source": [
    "1606173556811[1:2]"
   ]
  },
  {
   "cell_type": "code",
   "execution_count": 42,
   "metadata": {},
   "outputs": [
    {
     "data": {
      "text/plain": [
       "11"
      ]
     },
     "execution_count": 42,
     "metadata": {},
     "output_type": "execute_result"
    }
   ],
   "source": [
    "abs(1606173556811) % 100 "
   ]
  },
  {
   "cell_type": "code",
   "execution_count": 45,
   "metadata": {},
   "outputs": [
    {
     "data": {
      "text/plain": [
       "1606173556"
      ]
     },
     "execution_count": 45,
     "metadata": {},
     "output_type": "execute_result"
    }
   ],
   "source": [
    "num = 1606173556811\n",
    "int(str(num)[:len(str(num))-3])\n"
   ]
  },
  {
   "cell_type": "code",
   "execution_count": null,
   "metadata": {},
   "outputs": [],
   "source": []
  }
 ],
 "metadata": {
  "kernelspec": {
   "display_name": "Python 3",
   "language": "python",
   "name": "python3"
  },
  "language_info": {
   "codemirror_mode": {
    "name": "ipython",
    "version": 3
   },
   "file_extension": ".py",
   "mimetype": "text/x-python",
   "name": "python",
   "nbconvert_exporter": "python",
   "pygments_lexer": "ipython3",
   "version": "3.8.3"
  }
 },
 "nbformat": 4,
 "nbformat_minor": 4
}
